{
 "cells": [
  {
   "cell_type": "code",
   "execution_count": 2,
   "id": "e0cc2ba2",
   "metadata": {},
   "outputs": [
    {
     "ename": "AttributeError",
     "evalue": "module 'maxflow' has no attribute '__version__'",
     "output_type": "error",
     "traceback": [
      "\u001b[0;31m---------------------------------------------------------------------------\u001b[0m",
      "\u001b[0;31mAttributeError\u001b[0m                            Traceback (most recent call last)",
      "Cell \u001b[0;32mIn [2], line 4\u001b[0m\n\u001b[1;32m      1\u001b[0m \u001b[38;5;28;01mimport\u001b[39;00m \u001b[38;5;21;01mmaxflow\u001b[39;00m\n\u001b[1;32m      3\u001b[0m \u001b[38;5;66;03m# Print the version\u001b[39;00m\n\u001b[0;32m----> 4\u001b[0m \u001b[38;5;28mprint\u001b[39m(\u001b[43mmaxflow\u001b[49m\u001b[38;5;241;43m.\u001b[39;49m\u001b[43m__version__\u001b[49m)\n",
      "\u001b[0;31mAttributeError\u001b[0m: module 'maxflow' has no attribute '__version__'"
     ]
    }
   ],
   "source": [
    "import maxflow\n",
    "\n",
    "# Print the version\n",
    "print(maxflow.__version__)"
   ]
  },
  {
   "cell_type": "code",
   "execution_count": 3,
   "id": "1317687a",
   "metadata": {},
   "outputs": [
    {
     "ename": "AttributeError",
     "evalue": "module 'maxflow' has no attribute 'Graph'",
     "output_type": "error",
     "traceback": [
      "\u001b[0;31m---------------------------------------------------------------------------\u001b[0m",
      "\u001b[0;31mAttributeError\u001b[0m                            Traceback (most recent call last)",
      "Cell \u001b[0;32mIn [3], line 5\u001b[0m\n\u001b[1;32m      1\u001b[0m \u001b[38;5;28;01mimport\u001b[39;00m \u001b[38;5;21;01mmaxflow\u001b[39;00m\n\u001b[1;32m      3\u001b[0m \u001b[38;5;66;03m# Create a graph with integer capacities, with 2 non-terminal nodes and 2 non-terminal edges.\u001b[39;00m\n\u001b[1;32m      4\u001b[0m \u001b[38;5;66;03m# Note that these numbers are just indicative (read below)\u001b[39;00m\n\u001b[0;32m----> 5\u001b[0m g \u001b[38;5;241m=\u001b[39m \u001b[43mmaxflow\u001b[49m\u001b[38;5;241;43m.\u001b[39;49m\u001b[43mGraph\u001b[49m[\u001b[38;5;28mint\u001b[39m](\u001b[38;5;241m2\u001b[39m, \u001b[38;5;241m2\u001b[39m)\n\u001b[1;32m      6\u001b[0m \u001b[38;5;66;03m# Add two (non-terminal) nodes. Get the index to the first one.\u001b[39;00m\n\u001b[1;32m      7\u001b[0m nodes \u001b[38;5;241m=\u001b[39m g\u001b[38;5;241m.\u001b[39madd_nodes(\u001b[38;5;241m2\u001b[39m)\n",
      "\u001b[0;31mAttributeError\u001b[0m: module 'maxflow' has no attribute 'Graph'"
     ]
    }
   ],
   "source": [
    "import maxflow\n",
    "\n",
    "# Create a graph with integer capacities, with 2 non-terminal nodes and 2 non-terminal edges.\n",
    "# Note that these numbers are just indicative (read below)\n",
    "g = maxflow.Graph[int](2, 2)\n",
    "\n",
    "\n",
    "# Add two (non-terminal) nodes. Get the index to the first one.\n",
    "nodes = g.add_nodes(2)\n",
    "# Create the non-terminal edges (forwards and backwards) with the given capacities between nodes 0 and 1.\n",
    "g.add_edge(nodes[0], nodes[1], 1, 2)\n",
    "# Set the capacities of the terminal edges...\n",
    "# ...for the first node\n",
    "g.add_tedge(nodes[0], 2, 5)\n",
    "# ...for the second node\n",
    "g.add_tedge(nodes[1], 9, 4)"
   ]
  },
  {
   "cell_type": "code",
   "execution_count": 8,
   "id": "061fdfb9",
   "metadata": {},
   "outputs": [
    {
     "name": "stdout",
     "output_type": "stream",
     "text": [
      "Requirement already satisfied: PyMaxflow in /Users/darcyliu/miniconda3/envs/cs484/lib/python3.8/site-packages (1.2.13)\n",
      "Note: you may need to restart the kernel to use updated packages.\n"
     ]
    }
   ],
   "source": [
    "pip install PyMaxflow"
   ]
  },
  {
   "cell_type": "code",
   "execution_count": 9,
   "id": "c81feb14",
   "metadata": {},
   "outputs": [
    {
     "ename": "AttributeError",
     "evalue": "module 'maxflow' has no attribute 'Graph'",
     "output_type": "error",
     "traceback": [
      "\u001b[0;31m---------------------------------------------------------------------------\u001b[0m",
      "\u001b[0;31mAttributeError\u001b[0m                            Traceback (most recent call last)",
      "Cell \u001b[0;32mIn [9], line 2\u001b[0m\n\u001b[1;32m      1\u001b[0m \u001b[38;5;28;01mimport\u001b[39;00m \u001b[38;5;21;01mmaxflow\u001b[39;00m\n\u001b[0;32m----> 2\u001b[0m g \u001b[38;5;241m=\u001b[39m \u001b[43mmaxflow\u001b[49m\u001b[38;5;241;43m.\u001b[39;49m\u001b[43mGraph\u001b[49m[\u001b[38;5;28mint\u001b[39m](\u001b[38;5;241m2\u001b[39m, \u001b[38;5;241m2\u001b[39m)\n\u001b[1;32m      3\u001b[0m nodes \u001b[38;5;241m=\u001b[39m g\u001b[38;5;241m.\u001b[39madd_nodes(\u001b[38;5;241m2\u001b[39m)\n\u001b[1;32m      4\u001b[0m g\u001b[38;5;241m.\u001b[39madd_edge(nodes[\u001b[38;5;241m0\u001b[39m], nodes[\u001b[38;5;241m1\u001b[39m], \u001b[38;5;241m1\u001b[39m, \u001b[38;5;241m2\u001b[39m)\n",
      "\u001b[0;31mAttributeError\u001b[0m: module 'maxflow' has no attribute 'Graph'"
     ]
    }
   ],
   "source": [
    "import maxflow\n",
    "g = maxflow.Graph[int](2, 2)\n",
    "nodes = g.add_nodes(2)\n",
    "g.add_edge(nodes[0], nodes[1], 1, 2)\n",
    "g.add_tedge(nodes[0], 2, 5)\n",
    "g.add_tedge(nodes[1], 9, 4)\n",
    "g.maxflow()\n",
    "g.get_grid_segments(nodes)\n",
    "array([ True, False])"
   ]
  },
  {
   "cell_type": "code",
   "execution_count": null,
   "id": "8a9d12e6",
   "metadata": {},
   "outputs": [],
   "source": []
  }
 ],
 "metadata": {
  "kernelspec": {
   "display_name": "Python 3 (ipykernel)",
   "language": "python",
   "name": "python3"
  },
  "language_info": {
   "codemirror_mode": {
    "name": "ipython",
    "version": 3
   },
   "file_extension": ".py",
   "mimetype": "text/x-python",
   "name": "python",
   "nbconvert_exporter": "python",
   "pygments_lexer": "ipython3",
   "version": "3.8.15"
  }
 },
 "nbformat": 4,
 "nbformat_minor": 5
}
