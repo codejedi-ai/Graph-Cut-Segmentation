{
 "cells": [
  {
   "cell_type": "code",
   "execution_count": 6,
   "id": "92d949ad",
   "metadata": {},
   "outputs": [],
   "source": [
    "%matplotlib notebook\n",
    "\n",
    "# loading standard modules\n",
    "import numpy as np\n",
    "import matplotlib.pyplot as plt\n",
    "import maxflow\n",
    "from skimage import img_as_ubyte\n",
    "from sklearn import mixture\n",
    "from skimage.color import rgb2gray\n",
    "# loading custom module (requires file asg1.py in the same directory as the notebook file)\n",
    "from asg1_error_handling import Figure, GraphCutsPresenter"
   ]
  },
  {
   "cell_type": "code",
   "execution_count": 7,
   "id": "f34d6f4d",
   "metadata": {},
   "outputs": [],
   "source": [
    "img = plt.imread('images/rose.bmp')"
   ]
  },
  {
   "cell_type": "code",
   "execution_count": 8,
   "id": "07f5d352",
   "metadata": {},
   "outputs": [],
   "source": [
    "def calculate_graph(img, lambda_, sigma):\n",
    "    g = maxflow.Graph[float]()\n",
    "    nodeids = g.add_grid_nodes(img.shape)\n",
    "\n",
    "    def wpq(lambda_, p, q, sigma):\n",
    "      return lambda_ * np.exp(- ((p - q) ** 2) / sigma ** 2)\n",
    "    n_right =  wpq(lambda_, img, np.roll(img, -1, axis = 1), sigma)  \n",
    "    n_below =  wpq(lambda_, img, np.roll(img, -1, axis = 0), sigma) \n",
    "\n",
    "\n",
    "    structure_x = np.array([[0, 0, 0],\n",
    "                            [0, 0, 1],\n",
    "                            [0, 0, 0]])\n",
    "    structure_y = np.array([[0, 0, 0],\n",
    "                            [0, 0, 0],\n",
    "                            [0, 1, 0]])\n",
    "\n",
    "    g.add_grid_edges(nodeids, weights = n_right, structure = structure_x, symmetric = True)\n",
    "    g.add_grid_edges(nodeids, weights = n_below, structure = structure_y, symmetric = True)\n",
    "    return g"
   ]
  },
  {
   "cell_type": "code",
   "execution_count": 9,
   "id": "d8cbc100",
   "metadata": {},
   "outputs": [
    {
     "name": "stderr",
     "output_type": "stream",
     "text": [
      "/var/folders/g8/htk5l_1952g9hfp5xgbd02k80000gn/T/ipykernel_58716/1055268946.py:6: RuntimeWarning: overflow encountered in exp\n",
      "  return lambda_ * np.exp(- ((p - q) ** 2) / sigma ** 2)\n"
     ]
    },
    {
     "data": {
      "text/plain": [
       "<maxflow._maxflow.GraphFloat at 0x12ec40a90>"
      ]
     },
     "execution_count": 9,
     "metadata": {},
     "output_type": "execute_result"
    }
   ],
   "source": [
    "calculate_graph(np.sum(img,axis = 2), 9, 9)"
   ]
  },
  {
   "cell_type": "code",
   "execution_count": null,
   "id": "8ecdb05f",
   "metadata": {},
   "outputs": [],
   "source": [
    "blyat = np.array([[True,False,False],[False,True,False],[True,True,False]])"
   ]
  },
  {
   "cell_type": "code",
   "execution_count": 20,
   "id": "d94d5800",
   "metadata": {},
   "outputs": [],
   "source": [
    "img = np.zeros((3,3,3))+[1,2,3]"
   ]
  },
  {
   "cell_type": "code",
   "execution_count": 28,
   "id": "0c3fe943",
   "metadata": {},
   "outputs": [],
   "source": [
    "b = a[np.array([[True,False,False],[False,True,False],[True,True,False]])]"
   ]
  },
  {
   "cell_type": "code",
   "execution_count": 29,
   "id": "6fe80e95",
   "metadata": {},
   "outputs": [
    {
     "data": {
      "text/plain": [
       "array([[1., 1., 1., 1.],\n",
       "       [2., 2., 2., 2.],\n",
       "       [3., 3., 3., 3.]])"
      ]
     },
     "execution_count": 29,
     "metadata": {},
     "output_type": "execute_result"
    }
   ],
   "source": [
    "np.column_stack((b))"
   ]
  },
  {
   "cell_type": "code",
   "execution_count": null,
   "id": "817f45be",
   "metadata": {},
   "outputs": [],
   "source": [
    "blue_points = img[seed_mask==self.obj_value]\n",
    "red_points = img[seed_mask==self.bgr_value]\n",
    "\n",
    "print(blue_points.shape)\n",
    "\n",
    "# computing tlinks\n",
    "\n",
    "\n",
    "# set of colors for all image pixels\n",
    "R = img[:,:,0].flatten()\n",
    "G = img[:,:,1].flatten()\n",
    "B = img[:,:,2].flatten()\n",
    "\n",
    "data_blue = np.column_stack((blue_points))\n",
    "data_red = np.column_stack((red_points))\n",
    "data  = np.vstack([R,G,B])\n",
    "\n",
    "\n",
    "\n",
    "\n",
    "\n",
    "\n",
    "\n",
    "self.red_model.fit(data_blue.T)\n",
    "self.blue_model.fit(data_red.T)\n",
    "\n",
    "\n",
    "like_red = -self.red_model.score_samples(data.T)\n",
    "like_blue = -self.blue_model.score_samples(data.T)\n",
    "\n",
    "like_red_im = like_red.reshape((im.shape[0],im.shape[1]))\n",
    "like_blue_im = like_blue.reshape((im.shape[0],im.shape[1]))"
   ]
  }
 ],
 "metadata": {
  "kernelspec": {
   "display_name": "Python 3 (ipykernel)",
   "language": "python",
   "name": "python3"
  },
  "language_info": {
   "codemirror_mode": {
    "name": "ipython",
    "version": 3
   },
   "file_extension": ".py",
   "mimetype": "text/x-python",
   "name": "python",
   "nbconvert_exporter": "python",
   "pygments_lexer": "ipython3",
   "version": "3.8.15"
  }
 },
 "nbformat": 4,
 "nbformat_minor": 5
}
